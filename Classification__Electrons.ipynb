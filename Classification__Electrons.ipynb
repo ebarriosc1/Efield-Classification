{
  "nbformat": 4,
  "nbformat_minor": 0,
  "metadata": {
    "colab": {
      "provenance": [],
      "gpuType": "T4",
      "authorship_tag": "ABX9TyNsLtYnAEQktnedggETB+zc",
      "include_colab_link": true
    },
    "kernelspec": {
      "name": "python3",
      "display_name": "Python 3"
    },
    "language_info": {
      "name": "python"
    },
    "accelerator": "GPU"
  },
  "cells": [
    {
      "cell_type": "markdown",
      "metadata": {
        "id": "view-in-github",
        "colab_type": "text"
      },
      "source": [
        "<a href=\"https://colab.research.google.com/github/ebarriosc1/Efield-Classification/blob/master/Classification__Electrons.ipynb\" target=\"_parent\"><img src=\"https://colab.research.google.com/assets/colab-badge.svg\" alt=\"Open In Colab\"/></a>"
      ]
    },
    {
      "cell_type": "code",
      "execution_count": 68,
      "metadata": {
        "id": "gi4wrrkpS8wS"
      },
      "outputs": [],
      "source": [
        "import numpy as np\n",
        "import pylab as lab\n",
        "from tensorflow import keras\n",
        "import tensorflow as tf\n",
        "from keras.utils import np_utils\n",
        "import random\n"
      ]
    },
    {
      "cell_type": "code",
      "source": [
        "def generator(num_images):\n",
        "  #removed the plots in order to reiterate a high number of times\n",
        "  u =[]\n",
        "  v =[]\n",
        "  uu = []\n",
        "  vv =[]\n",
        "  qq = []\n",
        "  for iter in range(num_images):\n",
        "      L = 20 # Number of points in x-coordinate and y-coordinate each\n",
        "\n",
        "\n",
        "      a, b = np.arange(0, L, 1), np.arange(0, L, 1)\n",
        "      X , Y = np.meshgrid(a, b)\n",
        "\n",
        "\n",
        "      Ex = np.zeros([L,L])         # 2D array to store the Ex and\n",
        "      Ey = np.zeros([L,L])         # Ey components\n",
        "\n",
        "\n",
        "      #will need to create a list of random locations for the charges\n",
        "      #nq = random.choice([1,2])\n",
        "      nq = random.randint(1,4)\n",
        "      qq.append(nq)\n",
        "      Q = [[],[]]\n",
        "      for rand_variable in range(nq):\n",
        "          q = random.choice([-1,1]) #indicates charge is poistive or negative\n",
        "          qx = random.randrange(1,L) #indicates the positions of the charge in the x^hat\n",
        "          qy = random.randrange(1,L) #indicates the positions of the charge in the y^hat\n",
        "          Q[0].append(qy)\n",
        "          Q[1].append(qx)\n",
        "          for i in range(L): # calculate Ex and Ey at each point in the grid, due to all charges\n",
        "              for j in range(L):\n",
        "                  denom = ((i - qx) ** 2.0 + (j - qy) ** 2.0)**1.5\n",
        "                  if denom != 0:\n",
        "                      Ex[i,j] += (q * (j - qy))/ denom\n",
        "                      Ey[i,j] += (q * (i - qx))/ denom\n",
        "      u.append(Ex)\n",
        "      v.append(Ey)\n",
        "      vv.append(qy)\n",
        "      uu.append(qx)\n",
        "  ex = []\n",
        "  ey = []\n",
        "  for i in range(len(u)):\n",
        "      #ex.append(uu[i])\n",
        "      #ey.append(vv[i])\n",
        "      for j in range(20):\n",
        "          for k in range(20):\n",
        "              ex.append(u[i][j][k])\n",
        "              ey.append(v[i][j][k])\n",
        "  ex = lab.asarray(ex)\n",
        "  X = ex.reshape(num_images,400)\n",
        "  num_charge = []\n",
        "  for i in range(len(qq)):\n",
        "      num_charge.append(qq[i])\n",
        "      #for i in range(399):\n",
        "      #   num_charge.append(0)\n",
        "  return num_charge, X"
      ],
      "metadata": {
        "id": "jU_h-l1pcWrL"
      },
      "execution_count": 69,
      "outputs": []
    },
    {
      "cell_type": "code",
      "source": [
        "num_images = 5000\n",
        "\n",
        "labels, data = generator(num_images)"
      ],
      "metadata": {
        "id": "yke_95KRfDX9"
      },
      "execution_count": 70,
      "outputs": []
    },
    {
      "cell_type": "code",
      "source": [
        "labels = np.array(labels)"
      ],
      "metadata": {
        "id": "DvvWhfJ9yhBW"
      },
      "execution_count": 71,
      "outputs": []
    },
    {
      "cell_type": "code",
      "source": [
        "data = data.reshape(num_images, 20,20,1)"
      ],
      "metadata": {
        "id": "vHcDMrSohQcz"
      },
      "execution_count": 72,
      "outputs": []
    },
    {
      "cell_type": "code",
      "source": [
        "data = data.astype(np.float32)"
      ],
      "metadata": {
        "id": "xZYIHA-XwJ0r"
      },
      "execution_count": 73,
      "outputs": []
    },
    {
      "cell_type": "code",
      "source": [
        "#Splitting Data into Train and Test\n",
        "split_percent = int(len(data)* 0.8)\n",
        "\n",
        "X_train = data[:split_percent]\n",
        "X_test = data[split_percent:]\n",
        "\n",
        "num_charge_train = labels[:split_percent]\n",
        "num_charge_test = labels[split_percent:]"
      ],
      "metadata": {
        "id": "NtRQJxyQfHPq"
      },
      "execution_count": 74,
      "outputs": []
    },
    {
      "cell_type": "code",
      "source": [
        "#One-hot encoding will be applied:\n",
        "#Lets use numpy command to_categorical() to one-hot encode\n",
        "num_charge_train = np_utils.to_categorical(num_charge_train)\n",
        "num_charge_test = np_utils.to_categorical(num_charge_test)\n"
      ],
      "metadata": {
        "id": "BGIT6odlfJ6_"
      },
      "execution_count": 75,
      "outputs": []
    },
    {
      "cell_type": "code",
      "source": [
        "from tensorflow.keras import layers, Sequential\n",
        "\n",
        "model = Sequential()\n",
        "\n",
        "# Input layer\n",
        "model.add(layers.Input(shape=(20, 20, 1)))\n",
        "\n",
        "# Convolutional layers\n",
        "model.add(layers.Conv2D(32, 3, activation='relu', padding='same'))\n",
        "model.add(layers.Activation('relu'))\n",
        "model.add(layers.BatchNormalization())\n",
        "\n",
        "model.add(layers.Conv2D(64, 3, activation='relu', padding='same'))\n",
        "model.add(layers.MaxPooling2D(pool_size=(2, 2)))\n",
        "model.add(layers.Dropout(0.2))\n",
        "model.add(layers.BatchNormalization())\n",
        "\n",
        "model.add(layers.Conv2D(128, 3, activation='relu', padding='same'))\n",
        "model.add(layers.Dropout(0.2))\n",
        "model.add(layers.BatchNormalization())\n",
        "\n",
        "# Flatten layer\n",
        "model.add(layers.Flatten())\n",
        "model.add(layers.Dropout(0.2))\n",
        "\n",
        "# Fully connected layers\n",
        "model.add(layers.Dense(32, activation='relu'))\n",
        "model.add(layers.Dropout(0.3))\n",
        "model.add(layers.BatchNormalization())\n",
        "\n",
        "# Output layer\n",
        "model.add(layers.Dense(num_charge_train.shape[1], activation='softmax'))  # Change num_classes to your number of classes\n",
        "\n",
        "# Compile the model\n",
        "model.compile(optimizer='adam', loss='categorical_crossentropy', metrics=['accuracy'])"
      ],
      "metadata": {
        "id": "nlhu8QeRoxku"
      },
      "execution_count": 76,
      "outputs": []
    },
    {
      "cell_type": "code",
      "source": [
        "print(model.summary())"
      ],
      "metadata": {
        "colab": {
          "base_uri": "https://localhost:8080/"
        },
        "id": "JBZW13lylxX_",
        "outputId": "2de49885-47fa-4363-bee8-880abb98509e"
      },
      "execution_count": 77,
      "outputs": [
        {
          "output_type": "stream",
          "name": "stdout",
          "text": [
            "Model: \"sequential_4\"\n",
            "_________________________________________________________________\n",
            " Layer (type)                Output Shape              Param #   \n",
            "=================================================================\n",
            " conv2d_12 (Conv2D)          (None, 20, 20, 32)        320       \n",
            "                                                                 \n",
            " activation_4 (Activation)   (None, 20, 20, 32)        0         \n",
            "                                                                 \n",
            " batch_normalization_16 (Bat  (None, 20, 20, 32)       128       \n",
            " chNormalization)                                                \n",
            "                                                                 \n",
            " conv2d_13 (Conv2D)          (None, 20, 20, 64)        18496     \n",
            "                                                                 \n",
            " max_pooling2d_4 (MaxPooling  (None, 10, 10, 64)       0         \n",
            " 2D)                                                             \n",
            "                                                                 \n",
            " dropout_16 (Dropout)        (None, 10, 10, 64)        0         \n",
            "                                                                 \n",
            " batch_normalization_17 (Bat  (None, 10, 10, 64)       256       \n",
            " chNormalization)                                                \n",
            "                                                                 \n",
            " conv2d_14 (Conv2D)          (None, 10, 10, 128)       73856     \n",
            "                                                                 \n",
            " dropout_17 (Dropout)        (None, 10, 10, 128)       0         \n",
            "                                                                 \n",
            " batch_normalization_18 (Bat  (None, 10, 10, 128)      512       \n",
            " chNormalization)                                                \n",
            "                                                                 \n",
            " flatten_4 (Flatten)         (None, 12800)             0         \n",
            "                                                                 \n",
            " dropout_18 (Dropout)        (None, 12800)             0         \n",
            "                                                                 \n",
            " dense_7 (Dense)             (None, 32)                409632    \n",
            "                                                                 \n",
            " dropout_19 (Dropout)        (None, 32)                0         \n",
            "                                                                 \n",
            " batch_normalization_19 (Bat  (None, 32)               128       \n",
            " chNormalization)                                                \n",
            "                                                                 \n",
            " dense_8 (Dense)             (None, 5)                 165       \n",
            "                                                                 \n",
            "=================================================================\n",
            "Total params: 503,493\n",
            "Trainable params: 502,981\n",
            "Non-trainable params: 512\n",
            "_________________________________________________________________\n",
            "None\n"
          ]
        }
      ]
    },
    {
      "cell_type": "code",
      "source": [],
      "metadata": {
        "id": "lFY3AK6ezn7r"
      },
      "execution_count": 77,
      "outputs": []
    },
    {
      "cell_type": "code",
      "source": [
        "np.random.seed(123)\n",
        "history = model.fit(X_train, num_charge_train, epochs=5, batch_size=10)\n"
      ],
      "metadata": {
        "colab": {
          "base_uri": "https://localhost:8080/"
        },
        "id": "DWgcWfCjmIn3",
        "outputId": "518e7641-3ecd-490b-bbaa-2a81053eee59"
      },
      "execution_count": 78,
      "outputs": [
        {
          "output_type": "stream",
          "name": "stdout",
          "text": [
            "Epoch 1/5\n",
            "400/400 [==============================] - 7s 6ms/step - loss: 1.0581 - accuracy: 0.5740\n",
            "Epoch 2/5\n",
            "400/400 [==============================] - 2s 6ms/step - loss: 0.6790 - accuracy: 0.7128\n",
            "Epoch 3/5\n",
            "400/400 [==============================] - 3s 7ms/step - loss: 0.6351 - accuracy: 0.7345\n",
            "Epoch 4/5\n",
            "400/400 [==============================] - 2s 6ms/step - loss: 0.6006 - accuracy: 0.7455\n",
            "Epoch 5/5\n",
            "400/400 [==============================] - 2s 6ms/step - loss: 0.6422 - accuracy: 0.7268\n"
          ]
        }
      ]
    },
    {
      "cell_type": "code",
      "source": [
        "# Generate generalization metrics\n",
        "score = model.evaluate(X_test, num_charge_test, verbose=0)\n",
        "print(f'Test loss: {score[0]} / Test accuracy: {score[1]}')"
      ],
      "metadata": {
        "colab": {
          "base_uri": "https://localhost:8080/"
        },
        "id": "1ha1KzLVmXEn",
        "outputId": "4f86ad04-b988-45ce-e28b-58e9ab6b6e46"
      },
      "execution_count": 79,
      "outputs": [
        {
          "output_type": "stream",
          "name": "stdout",
          "text": [
            "Test loss: 0.3063032627105713 / Test accuracy: 0.9710000157356262\n"
          ]
        }
      ]
    },
    {
      "cell_type": "code",
      "source": [
        "model.predict(X_test[0:1])"
      ],
      "metadata": {
        "colab": {
          "base_uri": "https://localhost:8080/"
        },
        "id": "aqVmASgt2Ou5",
        "outputId": "f3a57454-8fd5-4ec4-c36b-951a8bdba8a1"
      },
      "execution_count": 80,
      "outputs": [
        {
          "output_type": "stream",
          "name": "stdout",
          "text": [
            "1/1 [==============================] - 0s 118ms/step\n"
          ]
        },
        {
          "output_type": "execute_result",
          "data": {
            "text/plain": [
              "array([[0.00120762, 0.00121759, 0.10484059, 0.6042164 , 0.28851783]],\n",
              "      dtype=float32)"
            ]
          },
          "metadata": {},
          "execution_count": 80
        }
      ]
    },
    {
      "cell_type": "code",
      "source": [
        "num_charge_test[0:1]"
      ],
      "metadata": {
        "colab": {
          "base_uri": "https://localhost:8080/"
        },
        "id": "kuaTlump2zYO",
        "outputId": "6d12311f-ff19-4011-b928-566dbd89870f"
      },
      "execution_count": 82,
      "outputs": [
        {
          "output_type": "execute_result",
          "data": {
            "text/plain": [
              "array([[0., 0., 0., 1., 0.]], dtype=float32)"
            ]
          },
          "metadata": {},
          "execution_count": 82
        }
      ]
    },
    {
      "cell_type": "code",
      "source": [
        "num_charge_test_encoded = model.predict(X_test[0:1])\n",
        "num_charge_test_original = np.argmax(num_charge_test_encoded, axis=1)\n",
        "num_charge_test_original"
      ],
      "metadata": {
        "colab": {
          "base_uri": "https://localhost:8080/"
        },
        "id": "u8c0B8qu30ep",
        "outputId": "6ba758be-a3a5-4505-c818-0f7af3ea16b1"
      },
      "execution_count": 83,
      "outputs": [
        {
          "output_type": "stream",
          "name": "stdout",
          "text": [
            "1/1 [==============================] - 0s 19ms/step\n"
          ]
        },
        {
          "output_type": "execute_result",
          "data": {
            "text/plain": [
              "array([3])"
            ]
          },
          "metadata": {},
          "execution_count": 83
        }
      ]
    },
    {
      "cell_type": "code",
      "source": [
        "lab.imshow(X_test[0])\n",
        "lab.show()"
      ],
      "metadata": {
        "colab": {
          "base_uri": "https://localhost:8080/",
          "height": 430
        },
        "id": "ViHYxiR94Qbh",
        "outputId": "b7e69d68-cc38-4598-fb7d-df27de26459c"
      },
      "execution_count": 90,
      "outputs": [
        {
          "output_type": "display_data",
          "data": {
            "text/plain": [
              "<Figure size 640x480 with 1 Axes>"
            ],
            "image/png": "[encoded data removed]"
          },
          "metadata": {}
        }
      ]
    }
  ]
}